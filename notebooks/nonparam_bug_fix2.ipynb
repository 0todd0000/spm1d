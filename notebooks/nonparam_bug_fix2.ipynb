{
 "cells": [
  {
   "cell_type": "markdown",
   "id": "58d7868c",
   "metadata": {},
   "source": [
    "# Nonparametric inference changes in spm1d v0.4.50 (2nd bug)\n",
    "\n",
    "(2025-06-06)\n",
    "\n",
    "In repairing the [first bug](nonparam_bug_fix.ipynb) a second bug was discovered.\n",
    "\n",
    "The bug affects both the Python and MATLAB versions of **spm1d** for all versions prior to v0.4.50.\n",
    "\n",
    "The bug affects **only 0D data analysis** and **only two-tailed inference** for the following procedures:\n",
    "\n",
    "- `spm1d.stats.nonparam.ttest`\n",
    "- `spm1d.stats.nonparam.ttest_paired`\n",
    "- `spm1d.stats.nonparam.ttest2`\n",
    "- `spm1d.stats.nonparam.regress`\n",
    "- `spm1d.stats.nonparam.ci_onesample`\n",
    "- `spm1d.stats.nonparam.ci_pairedsample`\n",
    "- `spm1d.stats.nonparam.ci_twosample`\n",
    "\n",
    "The bug applied a double-correction for two-tailed inference when calculating critical threshold, thereby yielding overly conservative thresholds. The p-values from these procedures are unaffected. Thus the bug affects only cases where the critical threshold is of primary concern. As such the practical implications of this bug are expected to be limited to 0D confidence interval results.\n",
    "\n",
    "Below is a brief description of the bug and a demonstration of its resolution in spm1d v0.4.50."
   ]
  },
  {
   "cell_type": "markdown",
   "id": "969880c7",
   "metadata": {},
   "source": [
    "<br>\n",
    "<br>\n",
    "\n",
    "___\n",
    "\n",
    "## Preliminaries"
   ]
  },
  {
   "cell_type": "code",
   "execution_count": 1,
   "id": "9c235975",
   "metadata": {},
   "outputs": [],
   "source": [
    "import numpy as np\n",
    "import matplotlib.pyplot as plt\n",
    "import spm1d"
   ]
  },
  {
   "cell_type": "markdown",
   "id": "f0f118c4",
   "metadata": {},
   "source": [
    "Before starting verify that you have **spm1d** version 0.4.50 or later:"
   ]
  },
  {
   "cell_type": "code",
   "execution_count": 2,
   "id": "6b4930f1",
   "metadata": {},
   "outputs": [
    {
     "name": "stdout",
     "output_type": "stream",
     "text": [
      "0.4.50\n"
     ]
    }
   ],
   "source": [
    "print( spm1d.__version__ )"
   ]
  },
  {
   "cell_type": "markdown",
   "id": "5431f08d",
   "metadata": {},
   "source": [
    "Note that the `spm1d.stats.nonparam` subpackage has been rewritten. If you wish to replicate previous versions' results please use the `spm1d.stats.nonparam_old` package which retains the original code."
   ]
  },
  {
   "cell_type": "code",
   "execution_count": 3,
   "id": "143694fd",
   "metadata": {},
   "outputs": [],
   "source": [
    "import spm1d.stats.nonparam_old"
   ]
  },
  {
   "cell_type": "markdown",
   "id": "75c7dc0c",
   "metadata": {},
   "source": [
    "<br>\n",
    "<br>\n",
    "\n",
    "___\n",
    "\n",
    "## Bug example\n",
    "\n",
    "The example below shows that the old procedure a critical threshold of 2.57, considerably higher than the 2.20 and 2.23 yielded by the parametric and new nonparametric procedures."
   ]
  },
  {
   "cell_type": "code",
   "execution_count": 4,
   "id": "0184b02c",
   "metadata": {},
   "outputs": [
    {
     "name": "stdout",
     "output_type": "stream",
     "text": [
      "_inference_0d_twotailed\n",
      "Critical thresholds:\n",
      "   Parametric:           2.20099\n",
      "   Nonparametric:        2.22788\n",
      "   Nonparametric (old):  2.57330\n"
     ]
    }
   ],
   "source": [
    "# create data:\n",
    "y0         = np.array([5.7, 8.4, 6.0, 6.4, 5.5])\n",
    "y1         = np.array([5.3, 8.2, 5.5, 6.1, 5.6])\n",
    "np.random.seed(0)\n",
    "y0         = np.random.randn(12)\n",
    "y1         = np.random.randn(12)\n",
    "\n",
    "\n",
    "# conduct parametric and nonparametric tests:\n",
    "np.random.seed(0)\n",
    "alpha      = 0.05\n",
    "two_tailed = True\n",
    "niter      = -1\n",
    "ti         = spm1d.stats.ttest_paired(y1, y0).inference(alpha, two_tailed=two_tailed)\n",
    "tni        = spm1d.stats.nonparam.ttest_paired(y1, y0).inference(alpha, two_tailed=two_tailed, iterations=niter)\n",
    "tnio       = spm1d.stats.nonparam_old.ttest_paired(y1, y0).inference(alpha, two_tailed=two_tailed, iterations=niter)\n",
    "\n",
    "\n",
    "print( 'Critical thresholds:')\n",
    "print( f'   Parametric:           {ti.zstar:.5f}')\n",
    "print( f'   Nonparametric:        {tni.zstar[1]:.5f}')\n",
    "print( f'   Nonparametric (old):  {tnio.zstar[1]:.5f}')\n",
    "\n"
   ]
  },
  {
   "cell_type": "markdown",
   "id": "4d18b10c",
   "metadata": {},
   "source": [
    "The bug can be rectified in the old version simply by multiplying the desired alpha by two:"
   ]
  },
  {
   "cell_type": "code",
   "execution_count": 5,
   "id": "4c8f16f2",
   "metadata": {},
   "outputs": [
    {
     "name": "stdout",
     "output_type": "stream",
     "text": [
      "   Nonparametric (old corrected):  2.22788\n"
     ]
    }
   ],
   "source": [
    "tnio       = spm1d.stats.nonparam_old.ttest_paired(y1, y0).inference(2*alpha, two_tailed=two_tailed, iterations=niter)\n",
    "\n",
    "print( f'   Nonparametric (old corrected):  {tnio.zstar[1]:.5f}')"
   ]
  }
 ],
 "metadata": {
  "kernelspec": {
   "display_name": "Python 3 (ipykernel)",
   "language": "python",
   "name": "python3"
  },
  "language_info": {
   "codemirror_mode": {
    "name": "ipython",
    "version": 3
   },
   "file_extension": ".py",
   "mimetype": "text/x-python",
   "name": "python",
   "nbconvert_exporter": "python",
   "pygments_lexer": "ipython3",
   "version": "3.12.7"
  }
 },
 "nbformat": 4,
 "nbformat_minor": 5
}
